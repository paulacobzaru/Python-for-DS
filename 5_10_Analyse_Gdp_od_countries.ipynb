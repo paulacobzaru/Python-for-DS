{
  "cells": [
    {
      "cell_type": "markdown",
      "metadata": {
        "id": "view-in-github",
        "colab_type": "text"
      },
      "source": [
        "<a href=\"https://colab.research.google.com/github/paulacobzaru/Python-for-DS/blob/main/5_10_Analyse_Gdp_od_countries.ipynb\" target=\"_parent\"><img src=\"https://colab.research.google.com/assets/colab-badge.svg\" alt=\"Open In Colab\"/></a>"
      ]
    },
    {
      "cell_type": "markdown",
      "metadata": {
        "id": "dbXlq1H5ji4p"
      },
      "source": [
        "<img src=\"http://cfs22.simplicdn.net/ice9/new_logo.svgz \"/>\n",
        "\n",
        "# Assignment 01: Evaluate the GDP Dataset\n",
        "\n",
        "*The comments/sections provided are your cues to perform the assignment. You don't need to limit yourself to the number of rows/cells provided. You can add additional rows in each section to add more lines of code.*\n",
        "\n",
        "*If at any point in time you need help on solving this assignment, view our demo video to understand the different steps of the code.*\n",
        "\n",
        "**Happy coding!**\n",
        "\n",
        "* * *"
      ]
    },
    {
      "cell_type": "markdown",
      "metadata": {
        "id": "0hlFw2Nuji4z"
      },
      "source": [
        "#### 1: View and add the dataset"
      ]
    },
    {
      "cell_type": "code",
      "execution_count": 73,
      "metadata": {
        "collapsed": true,
        "id": "FR1n-TtZji41"
      },
      "outputs": [],
      "source": [
        "#Import required library\n",
        "import numpy as np"
      ]
    },
    {
      "cell_type": "code",
      "execution_count": 74,
      "metadata": {
        "collapsed": true,
        "id": "fso0LQebji46"
      },
      "outputs": [],
      "source": [
        "#Manually add the dataset\n",
        "List_of_countries = np.array(['Algeria','Angola','Argentina','Australia','Austria','Bahamas','Bangladesh','Belarus','Belgium','Bhutan','Brazil','Bulgaria','Cambodia','Cameroon','Chile','China','Colombia','Cyprus','Denmark','El Salvador','Estonia','Ethiopia','Fiji','Finland','France','Georgia','Ghana','Grenada','Guinea','Haiti','Honduras','Hungary','India','Indonesia','Ireland','Italy','Japan','Kenya', 'South Korea','Liberia','Malaysia','Mexico', 'Morocco','Nepal','New Zealand','Norway','Pakistan', 'Peru','Qatar','Russia','Singapore','South Africa','Spain','Sweden','Switzerland','Thailand', 'United Arab Emirates','United Kingdom','United States','Uruguay','Venezuela','Vietnam','Zimbabwe'])\n",
        "GDP_values_for_each_country = np.array([2255.225482,629.9553062,11601.63022,25306.82494,27266.40335,19466.99052,588.3691778,2890.345675,24733.62696,1445.760002,4803.398244,2618.876037,590.4521124,665.7982328,7122.938458,2639.54156,3362.4656,15378.16704,30860.12808,2579.115607,6525.541272,229.6769525,2242.689259,27570.4852,23016.84778,1334.646773,402.6953275,6047.200797,394.1156638,385.5793827,1414.072488,5745.981529,837.7464011,1206.991065,27715.52837,18937.24998,39578.07441,478.2194906,16684.21278,279.2204061,5345.213415,6288.25324,1908.304416,274.8728621,14646.42094,40034.85063,672.1547506,3359.517402,36152.66676,3054.727742,33529.83052,3825.093781,15428.32098,33630.24604,39170.41371,2699.123242,21058.43643,28272.40661,37691.02733,9581.05659,5671.912202,757.4009286,347.7456605])"
      ]
    },
    {
      "cell_type": "markdown",
      "metadata": {
        "collapsed": true,
        "id": "FBlhohAPji48"
      },
      "source": [
        "#### 2: Find and print the name of the country with the highest GDP"
      ]
    },
    {
      "cell_type": "code",
      "execution_count": 75,
      "metadata": {
        "colab": {
          "base_uri": "https://localhost:8080/"
        },
        "id": "d0gqDWmyji49",
        "outputId": "efca1ab5-c960-499e-b33e-2084bdcc987e"
      },
      "outputs": [
        {
          "output_type": "execute_result",
          "data": {
            "text/plain": [
              "63"
            ]
          },
          "metadata": {},
          "execution_count": 75
        }
      ],
      "source": [
        "from numpy.core.fromnumeric import argmax\n",
        "#Use the argmax() method to find the highest GDP\n",
        "GDP_max_value = np.argmax(GDP_values_for_each_country)\n",
        "GDP_values_for_each_country.size"
      ]
    },
    {
      "cell_type": "code",
      "source": [
        "GDP_max_value"
      ],
      "metadata": {
        "colab": {
          "base_uri": "https://localhost:8080/"
        },
        "id": "-aa_30tp0DYO",
        "outputId": "6c305ed2-82e2-43c4-c0ab-acd21c90091c"
      },
      "execution_count": 76,
      "outputs": [
        {
          "output_type": "execute_result",
          "data": {
            "text/plain": [
              "45"
            ]
          },
          "metadata": {},
          "execution_count": 76
        }
      ]
    },
    {
      "cell_type": "code",
      "execution_count": 77,
      "metadata": {
        "collapsed": true,
        "colab": {
          "base_uri": "https://localhost:8080/"
        },
        "id": "7MyCC5xnji4_",
        "outputId": "b83668bb-9ee7-4112-c690-0feb19fc0ee8"
      },
      "outputs": [
        {
          "output_type": "stream",
          "name": "stdout",
          "text": [
            "Norway\n"
          ]
        }
      ],
      "source": [
        "#Print the name of the country\n",
        "print(List_of_countries[45])"
      ]
    },
    {
      "cell_type": "markdown",
      "metadata": {
        "collapsed": false,
        "id": "bWWreDfAji5A"
      },
      "source": [
        "#### 3: Find and print the name of the country with the lowest GDP"
      ]
    },
    {
      "cell_type": "code",
      "execution_count": 78,
      "metadata": {
        "collapsed": true,
        "colab": {
          "base_uri": "https://localhost:8080/"
        },
        "id": "NyFTmnN7ji5C",
        "outputId": "033b7cdd-743a-4030-a92b-2a90815ae961"
      },
      "outputs": [
        {
          "output_type": "execute_result",
          "data": {
            "text/plain": [
              "63"
            ]
          },
          "metadata": {},
          "execution_count": 78
        }
      ],
      "source": [
        "#Use the argmin() method to find the lowest GDP\n",
        "GDP_min_value = np.argmin(GDP_values_for_each_country)\n",
        "GDP_values_for_each_country.size"
      ]
    },
    {
      "cell_type": "code",
      "execution_count": 79,
      "metadata": {
        "collapsed": true,
        "colab": {
          "base_uri": "https://localhost:8080/"
        },
        "id": "3k4GKHkAji5D",
        "outputId": "5bb8ee10-f388-4b1a-d33e-fd726a6f33e0"
      },
      "outputs": [
        {
          "output_type": "execute_result",
          "data": {
            "text/plain": [
              "21"
            ]
          },
          "metadata": {},
          "execution_count": 79
        }
      ],
      "source": [
        "#Print the name of the country\n",
        "GDP_min_value"
      ]
    },
    {
      "cell_type": "code",
      "source": [
        "print(List_of_countries[21])"
      ],
      "metadata": {
        "colab": {
          "base_uri": "https://localhost:8080/"
        },
        "id": "hxfZqrKD1ZRw",
        "outputId": "e8b6eec9-0a25-4a48-cea8-48cdc0fe7760"
      },
      "execution_count": 80,
      "outputs": [
        {
          "output_type": "stream",
          "name": "stdout",
          "text": [
            "Ethiopia\n"
          ]
        }
      ]
    },
    {
      "cell_type": "markdown",
      "metadata": {
        "collapsed": false,
        "id": "qrYw1mfiji5F"
      },
      "source": [
        "#### 4: Print out text ('evaluating country') and input value ('country name') iteratively"
      ]
    },
    {
      "cell_type": "code",
      "execution_count": 81,
      "metadata": {
        "colab": {
          "base_uri": "https://localhost:8080/"
        },
        "id": "guwqwqNhji5H",
        "outputId": "eb167777-92df-4304-814c-90ec33eaf1bf"
      },
      "outputs": [
        {
          "output_type": "stream",
          "name": "stdout",
          "text": [
            "0. Evaluating country: Algeria\n",
            "1. Evaluating country: Angola\n",
            "2. Evaluating country: Argentina\n",
            "3. Evaluating country: Australia\n",
            "4. Evaluating country: Austria\n",
            "5. Evaluating country: Bahamas\n",
            "6. Evaluating country: Bangladesh\n",
            "7. Evaluating country: Belarus\n",
            "8. Evaluating country: Belgium\n",
            "9. Evaluating country: Bhutan\n",
            "10. Evaluating country: Brazil\n",
            "11. Evaluating country: Bulgaria\n",
            "12. Evaluating country: Cambodia\n",
            "13. Evaluating country: Cameroon\n",
            "14. Evaluating country: Chile\n",
            "15. Evaluating country: China\n",
            "16. Evaluating country: Colombia\n",
            "17. Evaluating country: Cyprus\n",
            "18. Evaluating country: Denmark\n",
            "19. Evaluating country: El Salvador\n",
            "20. Evaluating country: Estonia\n",
            "21. Evaluating country: Ethiopia\n",
            "22. Evaluating country: Fiji\n",
            "23. Evaluating country: Finland\n",
            "24. Evaluating country: France\n",
            "25. Evaluating country: Georgia\n",
            "26. Evaluating country: Ghana\n",
            "27. Evaluating country: Grenada\n",
            "28. Evaluating country: Guinea\n",
            "29. Evaluating country: Haiti\n",
            "30. Evaluating country: Honduras\n",
            "31. Evaluating country: Hungary\n",
            "32. Evaluating country: India\n",
            "33. Evaluating country: Indonesia\n",
            "34. Evaluating country: Ireland\n",
            "35. Evaluating country: Italy\n",
            "36. Evaluating country: Japan\n",
            "37. Evaluating country: Kenya\n",
            "38. Evaluating country: South Korea\n",
            "39. Evaluating country: Liberia\n",
            "40. Evaluating country: Malaysia\n",
            "41. Evaluating country: Mexico\n",
            "42. Evaluating country: Morocco\n",
            "43. Evaluating country: Nepal\n",
            "44. Evaluating country: New Zealand\n",
            "45. Evaluating country: Norway\n",
            "46. Evaluating country: Pakistan\n",
            "47. Evaluating country: Peru\n",
            "48. Evaluating country: Qatar\n",
            "49. Evaluating country: Russia\n",
            "50. Evaluating country: Singapore\n",
            "51. Evaluating country: South Africa\n",
            "52. Evaluating country: Spain\n",
            "53. Evaluating country: Sweden\n",
            "54. Evaluating country: Switzerland\n",
            "55. Evaluating country: Thailand\n",
            "56. Evaluating country: United Arab Emirates\n",
            "57. Evaluating country: United Kingdom\n",
            "58. Evaluating country: United States\n",
            "59. Evaluating country: Uruguay\n",
            "60. Evaluating country: Venezuela\n",
            "61. Evaluating country: Vietnam\n",
            "62. Evaluating country: Zimbabwe\n"
          ]
        }
      ],
      "source": [
        "#Use a for loop to print the required output\n",
        "i = 0\n",
        "for i in range(len(List_of_countries)):\n",
        "    country = List_of_countries[i]\n",
        "    print('{}. Evaluating country: {}'.format(i, country))"
      ]
    },
    {
      "cell_type": "markdown",
      "metadata": {
        "id": "orAKN1hRji5I"
      },
      "source": [
        "#### 5: Print out the entire list of the countries with their GDPs"
      ]
    },
    {
      "cell_type": "code",
      "execution_count": 82,
      "metadata": {
        "colab": {
          "base_uri": "https://localhost:8080/"
        },
        "id": "EnaT8MTbji5J",
        "outputId": "7154f596-ebd1-4414-d51d-fbeb2aa4c365"
      },
      "outputs": [
        {
          "output_type": "stream",
          "name": "stdout",
          "text": [
            "0. Algeria GDP per capita is:  2255.225482 \n",
            "1. Angola GDP per capita is:  629.9553062 \n",
            "2. Argentina GDP per capita is:  11601.63022 \n",
            "3. Australia GDP per capita is:  25306.82494 \n",
            "4. Austria GDP per capita is:  27266.40335 \n",
            "5. Bahamas GDP per capita is:  19466.99052 \n",
            "6. Bangladesh GDP per capita is:  588.3691778 \n",
            "7. Belarus GDP per capita is:  2890.345675 \n",
            "8. Belgium GDP per capita is:  24733.62696 \n",
            "9. Bhutan GDP per capita is:  1445.760002 \n",
            "10. Brazil GDP per capita is:  4803.398244 \n",
            "11. Bulgaria GDP per capita is:  2618.876037 \n",
            "12. Cambodia GDP per capita is:  590.4521124 \n",
            "13. Cameroon GDP per capita is:  665.7982328 \n",
            "14. Chile GDP per capita is:  7122.938458 \n",
            "15. China GDP per capita is:  2639.54156 \n",
            "16. Colombia GDP per capita is:  3362.4656 \n",
            "17. Cyprus GDP per capita is:  15378.16704 \n",
            "18. Denmark GDP per capita is:  30860.12808 \n",
            "19. El Salvador GDP per capita is:  2579.115607 \n",
            "20. Estonia GDP per capita is:  6525.541272 \n",
            "21. Ethiopia GDP per capita is:  229.6769525 \n",
            "22. Fiji GDP per capita is:  2242.689259 \n",
            "23. Finland GDP per capita is:  27570.4852 \n",
            "24. France GDP per capita is:  23016.84778 \n",
            "25. Georgia GDP per capita is:  1334.646773 \n",
            "26. Ghana GDP per capita is:  402.6953275 \n",
            "27. Grenada GDP per capita is:  6047.200797 \n",
            "28. Guinea GDP per capita is:  394.1156638 \n",
            "29. Haiti GDP per capita is:  385.5793827 \n",
            "30. Honduras GDP per capita is:  1414.072488 \n",
            "31. Hungary GDP per capita is:  5745.981529 \n",
            "32. India GDP per capita is:  837.7464011 \n",
            "33. Indonesia GDP per capita is:  1206.991065 \n",
            "34. Ireland GDP per capita is:  27715.52837 \n",
            "35. Italy GDP per capita is:  18937.24998 \n",
            "36. Japan GDP per capita is:  39578.07441 \n",
            "37. Kenya GDP per capita is:  478.2194906 \n",
            "38. South Korea GDP per capita is:  16684.21278 \n",
            "39. Liberia GDP per capita is:  279.2204061 \n",
            "40. Malaysia GDP per capita is:  5345.213415 \n",
            "41. Mexico GDP per capita is:  6288.25324 \n",
            "42. Morocco GDP per capita is:  1908.304416 \n",
            "43. Nepal GDP per capita is:  274.8728621 \n",
            "44. New Zealand GDP per capita is:  14646.42094 \n",
            "45. Norway GDP per capita is:  40034.85063 \n",
            "46. Pakistan GDP per capita is:  672.1547506 \n",
            "47. Peru GDP per capita is:  3359.517402 \n",
            "48. Qatar GDP per capita is:  36152.66676 \n",
            "49. Russia GDP per capita is:  3054.727742 \n",
            "50. Singapore GDP per capita is:  33529.83052 \n",
            "51. South Africa GDP per capita is:  3825.093781 \n",
            "52. Spain GDP per capita is:  15428.32098 \n",
            "53. Sweden GDP per capita is:  33630.24604 \n",
            "54. Switzerland GDP per capita is:  39170.41371 \n",
            "55. Thailand GDP per capita is:  2699.123242 \n",
            "56. United Arab Emirates GDP per capita is:  21058.43643 \n",
            "57. United Kingdom GDP per capita is:  28272.40661 \n",
            "58. United States GDP per capita is:  37691.02733 \n",
            "59. Uruguay GDP per capita is:  9581.05659 \n",
            "60. Venezuela GDP per capita is:  5671.912202 \n",
            "61. Vietnam GDP per capita is:  757.4009286 \n",
            "62. Zimbabwe GDP per capita is:  347.7456605 \n"
          ]
        }
      ],
      "source": [
        "#Use a for loop to print the required list\n",
        "i = 0\n",
        "for i in range(len(List_of_countries)):\n",
        "    country = List_of_countries[i]\n",
        "    GDP_per_capita = GDP_values_for_each_country[i]\n",
        "    print('{}. {} GDP per capita is:  {} '.format(i, country,GDP_per_capita))"
      ]
    },
    {
      "cell_type": "markdown",
      "metadata": {
        "collapsed": false,
        "id": "2PR4ffnuji5K"
      },
      "source": [
        "#### 6: Print the following:\n",
        "1. Highest GPD value\n",
        "2. Lowest GDP value\n",
        "3. Mean GDP value\n",
        "4. Standardized GDP value\n",
        "5. Sum of all the GDPs"
      ]
    },
    {
      "cell_type": "code",
      "execution_count": 95,
      "metadata": {
        "collapsed": true,
        "colab": {
          "base_uri": "https://localhost:8080/"
        },
        "id": "tyAWS2_xji5K",
        "outputId": "c5ba4584-6565-44a8-b3c0-c8975dcf0916"
      },
      "outputs": [
        {
          "output_type": "stream",
          "name": "stdout",
          "text": [
            "Maximum GDP value is:    40034.85063\n",
            "Mimimum GDP value is:    229.6769525\n",
            "Mean (avg) GDP value is: 11289.409271639683\n",
            "Standardized GDP value:  12743.828910617945\n",
            "Sum of all the GDPs is:  711232.7841133\n"
          ]
        }
      ],
      "source": [
        "  print('Maximum GDP value is:   ', np.max(GDP_values_for_each_country))\n",
        "  print('Mimimum GDP value is:   ', np.min(GDP_values_for_each_country))\n",
        "  print('Mean (avg) GDP value is:', np.sum(GDP_values_for_each_country)/GDP_values_for_each_country.size)\n",
        "  print('Standardized GDP value: ', np.std(GDP_values_for_each_country))\n",
        "  print('Sum of all the GDPs is: ', GDP_values_for_each_country.sum())"
      ]
    },
    {
      "cell_type": "code",
      "source": [
        ""
      ],
      "metadata": {
        "id": "Me8Oh7hqFuWF"
      },
      "execution_count": 97,
      "outputs": []
    },
    {
      "cell_type": "code",
      "source": [
        ""
      ],
      "metadata": {
        "id": "ASjbPddHMz6P"
      },
      "execution_count": null,
      "outputs": []
    }
  ],
  "metadata": {
    "kernelspec": {
      "display_name": "Python 3",
      "language": "python",
      "name": "python3"
    },
    "language_info": {
      "codemirror_mode": {
        "name": "ipython",
        "version": 3
      },
      "file_extension": ".py",
      "mimetype": "text/x-python",
      "name": "python",
      "nbconvert_exporter": "python",
      "pygments_lexer": "ipython3",
      "version": "3.5.1"
    },
    "colab": {
      "name": "5.10 Analyse Gdp od countries.ipynb",
      "provenance": [],
      "collapsed_sections": [],
      "include_colab_link": true
    }
  },
  "nbformat": 4,
  "nbformat_minor": 0
}