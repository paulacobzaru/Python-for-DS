{
  "cells": [
    {
      "cell_type": "markdown",
      "metadata": {
        "id": "view-in-github",
        "colab_type": "text"
      },
      "source": [
        "<a href=\"https://colab.research.google.com/github/paulacobzaru/Python-for-DS/blob/main/5_12_Analyse_London_olympics_dataset.ipynb\" target=\"_parent\"><img src=\"https://colab.research.google.com/assets/colab-badge.svg\" alt=\"Open In Colab\"/></a>"
      ]
    },
    {
      "cell_type": "markdown",
      "metadata": {
        "id": "oYc3-uKcTHSD"
      },
      "source": [
        "<img src=\"http://cfs22.simplicdn.net/ice9/new_logo.svgz \"/>\n",
        "\n",
        "# Assignment 02: Evaluate the Summer Olympics, London 2012 dataset\n",
        "\n",
        "*The comments/sections provided are your cues to perform the assignment. You don't need to limit yourself to the number of rows/cells provided. You can add additional rows in each section to add more lines of code.*\n",
        "\n",
        "*If at any point in time you need help on solving this assignment, view our demo video to understand the different steps of the code.*\n",
        "\n",
        "**Happy coding!**\n",
        "\n",
        "* * *"
      ]
    },
    {
      "cell_type": "markdown",
      "metadata": {
        "id": "X5A43RnWTHSN"
      },
      "source": [
        "#### 1: View and add the dataset"
      ]
    },
    {
      "cell_type": "code",
      "execution_count": null,
      "metadata": {
        "collapsed": true,
        "id": "GnHvkFAeTHSP"
      },
      "outputs": [],
      "source": [
        "#Import the necessary library\n",
        "import numpy as np"
      ]
    },
    {
      "cell_type": "code",
      "execution_count": null,
      "metadata": {
        "collapsed": true,
        "id": "ArfHlt5aTHSR"
      },
      "outputs": [],
      "source": [
        "#Manually add the Summer Olympics, London 2012 dataset as arrays\n",
        "olympic_countries = np.array(['Great Britain', 'China', 'Russia', 'United States', 'Korea', 'Japan','Germany'])\n",
        "gold_country = np.array([29, 38, 24, 46, 13, 7, 11])\n",
        "silver_country = np.array([17,28,25,28,8,14,11])\n",
        "bronze_country = np.array([19,22,32,29,7,27,14])\n"
      ]
    },
    {
      "cell_type": "code",
      "source": [
        "gold_country"
      ],
      "metadata": {
        "colab": {
          "base_uri": "https://localhost:8080/"
        },
        "id": "pnfVXdEnUdjW",
        "outputId": "da57abf0-1535-4417-aa9f-607efcdc4d2d"
      },
      "execution_count": null,
      "outputs": [
        {
          "output_type": "execute_result",
          "data": {
            "text/plain": [
              "array([29, 38, 24, 46, 13,  7, 11])"
            ]
          },
          "metadata": {},
          "execution_count": 71
        }
      ]
    },
    {
      "cell_type": "markdown",
      "metadata": {
        "id": "Cg38Nnk1THST"
      },
      "source": [
        "#### Find the country with maximum gold medals"
      ]
    },
    {
      "cell_type": "code",
      "execution_count": null,
      "metadata": {
        "collapsed": true,
        "colab": {
          "base_uri": "https://localhost:8080/"
        },
        "id": "_zHUExJtTHST",
        "outputId": "80c6961c-00b5-4980-9612-60392098fa2d"
      },
      "outputs": [
        {
          "output_type": "stream",
          "name": "stdout",
          "text": [
            "3\n"
          ]
        }
      ],
      "source": [
        "#Use the argmax() method to find the highest number of gold medals\n",
        "print(gold_country.argmax())"
      ]
    },
    {
      "cell_type": "code",
      "execution_count": null,
      "metadata": {
        "id": "NtVo6kWaTHSV",
        "colab": {
          "base_uri": "https://localhost:8080/",
          "height": 35
        },
        "outputId": "14540446-294b-45cb-e112-67fb551f520c"
      },
      "outputs": [
        {
          "output_type": "execute_result",
          "data": {
            "application/vnd.google.colaboratory.intrinsic+json": {
              "type": "string"
            },
            "text/plain": [
              "'United States'"
            ]
          },
          "metadata": {},
          "execution_count": 73
        }
      ],
      "source": [
        "#Print the name of the countr\n",
        "country_with_most_medals = Country[3]\n",
        "country_with_most_medals"
      ]
    },
    {
      "cell_type": "markdown",
      "source": [
        ""
      ],
      "metadata": {
        "id": "o4clNvq9UYVn"
      }
    },
    {
      "cell_type": "markdown",
      "metadata": {
        "id": "fdNq7BZzTHSW"
      },
      "source": [
        "#### Find the countries with more than 20 gold medals"
      ]
    },
    {
      "cell_type": "code",
      "execution_count": null,
      "metadata": {
        "id": "Bt27lSgJTHSX",
        "colab": {
          "base_uri": "https://localhost:8080/"
        },
        "outputId": "3614dee3-c67a-4c11-afff-71c54660788e"
      },
      "outputs": [
        {
          "output_type": "stream",
          "name": "stdout",
          "text": [
            "['Great Britain' 'China' 'Russia' 'United States']\n"
          ]
        }
      ],
      "source": [
        "#Use Boolean indexing technique to find the required output\n",
        "print(olympic_countries[gold_country>20])"
      ]
    },
    {
      "cell_type": "markdown",
      "metadata": {
        "id": "toxCXAcuTHSZ"
      },
      "source": [
        "#### Evaluate the dataset and print the name of each country with its gold medals and total number of medals"
      ]
    },
    {
      "cell_type": "code",
      "execution_count": null,
      "metadata": {
        "id": "6PUqp5YxTHSa",
        "colab": {
          "base_uri": "https://localhost:8080/"
        },
        "outputId": "a0b89623-8557-4d52-e9ee-2d0277809c96"
      },
      "outputs": [
        {
          "output_type": "stream",
          "name": "stdout",
          "text": [
            "1. Great Britain has 29 golden medals and 65 total medals. \n",
            "2. China has 38 golden medals and 88 total medals. \n",
            "3. Russia has 24 golden medals and 81 total medals. \n",
            "4. United States has 46 golden medals and 103 total medals. \n",
            "5. Korea has 13 golden medals and 28 total medals. \n",
            "6. Japan has 7 golden medals and 48 total medals. \n",
            "7. Germany has 11 golden medals and 36 total medals. \n"
          ]
        }
      ],
      "source": [
        "#Use a for loop to create the required output\n",
        "for i in range(len(olympic_countries)):\n",
        "  country = olympic_countries[i]\n",
        "  gold_medal = gold_country[i]\n",
        "  total_medals = gold_country[i]+silver_country[i]+bronze_country[i]\n",
        "  print('{}. {} has {} golden medals and {} total medals. '.format((i+1),country, gold_medal, total_medals))"
      ]
    },
    {
      "cell_type": "code",
      "source": [
        "|"
      ],
      "metadata": {
        "id": "DaY1Csf1fhMJ"
      },
      "execution_count": null,
      "outputs": []
    }
  ],
  "metadata": {
    "kernelspec": {
      "display_name": "Python 3",
      "language": "python",
      "name": "python3"
    },
    "language_info": {
      "codemirror_mode": {
        "name": "ipython",
        "version": 3
      },
      "file_extension": ".py",
      "mimetype": "text/x-python",
      "name": "python",
      "nbconvert_exporter": "python",
      "pygments_lexer": "ipython3",
      "version": "3.5.1"
    },
    "colab": {
      "name": "5.12 Analyse London olympics dataset.ipynb",
      "provenance": [],
      "collapsed_sections": [],
      "include_colab_link": true
    }
  },
  "nbformat": 4,
  "nbformat_minor": 0
}